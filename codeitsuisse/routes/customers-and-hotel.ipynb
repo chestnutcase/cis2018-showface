{
  "cells": [{
      "cell_type": "code",
      "execution_count": 83,
      "metadata": {},
      "outputs": [],
      "source": [
        "# minimum-distance"
      ]
    },
    {
      "cell_type": "code",
      "execution_count": 84,
      "metadata": {},
      "outputs": [],
      "source": [
        "arr = [4, 7, 5, 1, 12, 13, 9, 2, 6, 3, 21]"
      ]
    },
    {
      "cell_type": "code",
      "execution_count": 94,
      "metadata": {},
      "outputs": [],
      "source": [
        "arr = [1, 5, 100]"
      ]
    },
    {
      "cell_type": "code",
      "execution_count": 95,
      "metadata": {},
      "outputs": [{
        "name": "stdout",
        "output_type": "stream",
        "text": [
          "[1, 5, 100]\n",
          "4\n"
        ]
      }],
      "source": [
        "arr = sorted(arr)\n",
        "print(arr)\n",
        "diff = [arr[i] - arr[i+1] for i in range(len(arr)-1)]\n",
        "min_dist = [min(abs(x),abs(y)) for x,y in zip(diff[:1],diff[1:])]\n",
        "\n",
        "result = min(abs(diff[0]),abs(diff[-1]),min(min_dist))\n",
        "\n",
        "print(result)"
      ]
    },
    {
      "cell_type": "code",
      "execution_count": 100,
      "metadata": {},
      "outputs": [],
      "source": [
        "def minimum_distance(arr):\n",
        "    arr = sorted(arr)\n",
        "#     print(arr)\n",
        "    diff = [arr[i] - arr[i+1] for i in range(len(arr)-1)]\n",
        "    min_dist = [min(abs(x),abs(y)) for x,y in zip(diff[:1],diff[1:])]\n",
        "\n",
        "    result = min(abs(diff[0]),abs(diff[-1]),min(min_dist))\n",
        "\n",
        "#     print(result)\n",
        "    return {\"answer\": result}"
      ]
    },
    {
      "cell_type": "code",
      "execution_count": 101,
      "metadata": {},
      "outputs": [{
        "data": {
          "text/plain": [
            "{'answer': 4}"
          ]
        },
        "execution_count": 101,
        "metadata": {},
        "output_type": "execute_result"
      }],
      "source": [
        "minimum_distance(arr)"
      ]
    },
    {
      "cell_type": "code",
      "execution_count": null,
      "metadata": {},
      "outputs": [],
      "source": []
    },
    {
      "cell_type": "code",
      "execution_count": null,
      "metadata": {},
      "outputs": [],
      "source": []
    },
    {
      "cell_type": "code",
      "execution_count": null,
      "metadata": {},
      "outputs": [],
      "source": []
    },
    {
      "cell_type": "code",
      "execution_count": 88,
      "metadata": {},
      "outputs": [],
      "source": [
        "lst = [\n",
        "        {\n",
        "           \"pos\":4,\n",
        "           \"distance\":3\n",
        "        },\n",
        "        {\n",
        "           \"pos\":7,\n",
        "           \"distance\":1\n",
        "        },\n",
        "        {\n",
        "           \"pos\":5,\n",
        "           \"distance\":1\n",
        "        },\n",
        "        {\n",
        "           \"pos\":1,\n",
        "           \"distance\":1\n",
        "        }\n",
        "]"
      ]
    },
    {
      "cell_type": "code",
      "execution_count": 89,
      "metadata": {},
      "outputs": [],
      "source": [
        "lst = sorted(lst, key=lambda k: k['pos']) "
      ]
    },
    {
      "cell_type": "code",
      "execution_count": 90,
      "metadata": {},
      "outputs": [],
      "source": [
        "pos_arr = [a[\"pos\"] for a in lst]\n",
        "dis_arr = [a[\"distance\"] for a in lst]"
      ]
    },
    {
      "cell_type": "code",
      "execution_count": 102,
      "metadata": {},
      "outputs": [{
        "name": "stdout",
        "output_type": "stream",
        "text": [
          "2\n",
          "compare 0 2\n",
          "compare 1 2\n",
          "compare 4 2\n",
          "6\n",
          "compare 6 6\n",
          "2\n"
        ]
      }],
      "source": [
        "count = 1\n",
        "location = pos_arr[0] + dis_arr[0]\n",
        "print(location)\n",
        "\n",
        "for i in range(len(lst)):\n",
        "    print(\"compare\", pos_arr[i] - dis_arr[i], location)\n",
        "    \n",
        "    if pos_arr[i] - dis_arr[i] > location:\n",
        "        count += 1\n",
        "        location = pos_arr[i] + dis_arr[i]\n",
        "        print(location)\n",
        "        \n",
        "print(count)"
      ]
    },
    {
      "cell_type": "code",
      "execution_count": 103,
      "metadata": {},
      "outputs": [],
      "source": [
        "def minimum_camps(lst):\n",
        "    lst = sorted(lst, key=lambda k: k['pos']) \n",
        "    \n",
        "    pos_arr = [a[\"pos\"] for a in lst]\n",
        "    dis_arr = [a[\"distance\"] for a in lst]\n",
        "    cleared = [False] * len(lst)\n",
        "    \n",
        "    \n",
        "    count = 1\n",
        "    location = pos_arr[0] + dis_arr[0]\n",
        "#     print(location)\n",
        "\n",
        "    for i in range(len(lst)):\n",
        "#         print(\"compare\", pos_arr[i] - dis_arr[i], location)\n",
        "\n",
        "        if pos_arr[i] - dis_arr[i] > location:\n",
        "            count += 1\n",
        "            location = pos_arr[i] + dis_arr[i]\n",
        "#             print(location)\n",
        "\n",
        "#     print(count)\n",
        "\n",
        "    return {\"answer\": count}"
      ]
    },
    {
      "cell_type": "code",
      "execution_count": 104,
      "metadata": {},
      "outputs": [{
        "data": {
          "text/plain": [
            "{'answer': 2}"
          ]
        },
        "execution_count": 104,
        "metadata": {},
        "output_type": "execute_result"
      }],
      "source": [
        "minimum_camps(lst)"
      ]
    },
    {
      "cell_type": "code",
      "execution_count": null,
      "metadata": {},
      "outputs": [],
      "source": []
    },
    {
      "cell_type": "code",
      "execution_count": null,
      "metadata": {},
      "outputs": [],
      "source": []
    }
  ],
  "metadata": {
    "kernelspec": {
      "display_name": "Python [conda env:credit]",
      "language": "python",
      "name": "conda-env-credit-py"
    },
    "language_info": {
      "codemirror_mode": {
        "name": "ipython",
        "version": 3
      },
      "file_extension": ".py",
      "mimetype": "text/x-python",
      "name": "python",
      "nbconvert_exporter": "python",
      "pygments_lexer": "ipython3",
      "version": "3.6.6"
    }
  },
  "nbformat": 4,
  "nbformat_minor": 2
}
