{
 "cells": [
  {
   "cell_type": "markdown",
   "metadata": {},
   "source": [
    "# Part 1"
   ]
  },
  {
   "cell_type": "code",
   "execution_count": 1,
   "metadata": {},
   "outputs": [],
   "source": [
    "from pprint import pprint as pp"
   ]
  },
  {
   "cell_type": "code",
   "execution_count": 2,
   "metadata": {},
   "outputs": [],
   "source": [
    "# minimum-distance"
   ]
  },
  {
   "cell_type": "code",
   "execution_count": 3,
   "metadata": {},
   "outputs": [],
   "source": [
    "arr = [4, 7, 5, 1, 12, 13, 9, 2, 6, 3, 21]"
   ]
  },
  {
   "cell_type": "code",
   "execution_count": 4,
   "metadata": {},
   "outputs": [],
   "source": [
    "arr = [1, 5, 100]"
   ]
  },
  {
   "cell_type": "code",
   "execution_count": 5,
   "metadata": {},
   "outputs": [
    {
     "name": "stdout",
     "output_type": "stream",
     "text": [
      "[1, 5, 100]\n",
      "4\n"
     ]
    }
   ],
   "source": [
    "arr = sorted(arr)\n",
    "print(arr)\n",
    "diff = [arr[i] - arr[i+1] for i in range(len(arr)-1)]\n",
    "min_dist = [min(abs(x),abs(y)) for x,y in zip(diff[:1],diff[1:])]\n",
    "\n",
    "result = min(abs(diff[0]),abs(diff[-1]),min(min_dist))\n",
    "\n",
    "print(result)"
   ]
  },
  {
   "cell_type": "code",
   "execution_count": 6,
   "metadata": {},
   "outputs": [],
   "source": [
    "def minimum_distance(arr):\n",
    "    arr = sorted(arr)\n",
    "#     print(arr)\n",
    "    diff = [arr[i] - arr[i+1] for i in range(len(arr)-1)]\n",
    "    min_dist = [min(abs(x),abs(y)) for x,y in zip(diff[:1],diff[1:])]\n",
    "\n",
    "    result = min(abs(diff[0]),abs(diff[-1]),min(min_dist))\n",
    "\n",
    "#     print(result)\n",
    "    return {\"answer\": result}"
   ]
  },
  {
   "cell_type": "code",
   "execution_count": 7,
   "metadata": {},
   "outputs": [
    {
     "data": {
      "text/plain": [
       "{'answer': 4}"
      ]
     },
     "execution_count": 7,
     "metadata": {},
     "output_type": "execute_result"
    }
   ],
   "source": [
    "minimum_distance(arr)"
   ]
  },
  {
   "cell_type": "markdown",
   "metadata": {},
   "source": [
    "# Part 2"
   ]
  },
  {
   "cell_type": "code",
   "execution_count": 8,
   "metadata": {},
   "outputs": [],
   "source": [
    "lst = [\n",
    "        {  \n",
    "           \"pos\":0,\n",
    "           \"distance\":1000\n",
    "        },\n",
    "        {\n",
    "           \"pos\":4,\n",
    "           \"distance\":3\n",
    "        },\n",
    "        {\n",
    "           \"pos\":7,\n",
    "           \"distance\":1\n",
    "        },\n",
    "        {\n",
    "           \"pos\":5,\n",
    "           \"distance\":1\n",
    "        },\n",
    "        {\n",
    "           \"pos\":1,\n",
    "           \"distance\":1\n",
    "        },\n",
    "        {\n",
    "           \"pos\":1,\n",
    "           \"distance\":1\n",
    "        },\n",
    "        {\n",
    "           \"pos\":1,\n",
    "           \"distance\":1\n",
    "        },\n",
    "        {\n",
    "           \"pos\":10,\n",
    "           \"distance\":1\n",
    "        },\n",
    "        {\n",
    "           \"pos\":20,\n",
    "           \"distance\":10\n",
    "        },\n",
    "        {\n",
    "           \"pos\":25,\n",
    "           \"distance\":10\n",
    "        },\n",
    "]"
   ]
  },
  {
   "cell_type": "code",
   "execution_count": 9,
   "metadata": {},
   "outputs": [
    {
     "name": "stdout",
     "output_type": "stream",
     "text": [
      "[{'distance': 1000, 'pos': 0, 'rightest': 1000},\n",
      " {'distance': 3, 'pos': 4, 'rightest': 7},\n",
      " {'distance': 1, 'pos': 7, 'rightest': 8},\n",
      " {'distance': 1, 'pos': 5, 'rightest': 6},\n",
      " {'distance': 1, 'pos': 1, 'rightest': 2},\n",
      " {'distance': 1, 'pos': 1, 'rightest': 2},\n",
      " {'distance': 1, 'pos': 1, 'rightest': 2},\n",
      " {'distance': 1, 'pos': 10, 'rightest': 11},\n",
      " {'distance': 10, 'pos': 20, 'rightest': 30},\n",
      " {'distance': 10, 'pos': 25, 'rightest': 35}]\n"
     ]
    }
   ],
   "source": [
    "for item in lst:\n",
    "    item[\"rightest\"] = item[\"pos\"] + item[\"distance\"]\n",
    "\n",
    "sorted_lst = sorted(lst, key=lambda k: k['rightest']) \n",
    "pp(lst)"
   ]
  },
  {
   "cell_type": "code",
   "execution_count": 10,
   "metadata": {},
   "outputs": [],
   "source": [
    "pos_arr = [a[\"pos\"] for a in sorted_lst]\n",
    "dis_arr = [a[\"distance\"] for a in sorted_lst]"
   ]
  },
  {
   "cell_type": "code",
   "execution_count": 11,
   "metadata": {},
   "outputs": [
    {
     "name": "stdout",
     "output_type": "stream",
     "text": [
      "compare 1 - 1 0 -inf\n",
      "add :  2\n",
      "compare 1 - 1 0 2\n",
      "compare 1 - 1 0 2\n",
      "compare 5 - 1 4 2\n",
      "add :  6\n",
      "compare 4 - 3 1 6\n",
      "compare 7 - 1 6 6\n",
      "compare 10 - 1 9 6\n",
      "add :  11\n",
      "compare 20 - 10 10 11\n",
      "compare 25 - 10 15 11\n",
      "add :  35\n",
      "compare 0 - 1000 -1000 35\n",
      "4\n"
     ]
    }
   ],
   "source": [
    "count = 0\n",
    "location = -float('inf')\n",
    "\n",
    "for i in range(len(lst)):\n",
    "    print(\"compare\", pos_arr[i], \"-\" ,dis_arr[i], pos_arr[i] - dis_arr[i], location)\n",
    "    \n",
    "    if pos_arr[i] - dis_arr[i] > location:\n",
    "        count += 1\n",
    "        location = pos_arr[i] + dis_arr[i]\n",
    "        print(\"add : \", location)\n",
    "        \n",
    "print(count)"
   ]
  },
  {
   "cell_type": "code",
   "execution_count": 12,
   "metadata": {},
   "outputs": [],
   "source": [
    "def minimum_camps(lst):\n",
    "    for item in lst:\n",
    "        item[\"rightest\"] = item[\"pos\"] + item[\"distance\"]\n",
    "\n",
    "    lst = sorted(lst, key=lambda k: k['rightest']) \n",
    "\n",
    "    pos_arr = [a[\"pos\"] for a in lst]\n",
    "    dis_arr = [a[\"distance\"] for a in lst]\n",
    "\n",
    "\n",
    "    count = 0\n",
    "    location = -float('inf')\n",
    "\n",
    "    for i in range(len(lst)):\n",
    "        print(\"compare\", pos_arr[i], \"-\" ,dis_arr[i], pos_arr[i] - dis_arr[i], location)\n",
    "\n",
    "        if pos_arr[i] - dis_arr[i] > location:\n",
    "            count += 1\n",
    "            location = pos_arr[i] + dis_arr[i]\n",
    "            print(\"add : \", location)\n",
    "\n",
    "    print(count)\n",
    "\n",
    "    return {\"answer\": count}"
   ]
  },
  {
   "cell_type": "code",
   "execution_count": 13,
   "metadata": {},
   "outputs": [
    {
     "name": "stdout",
     "output_type": "stream",
     "text": [
      "compare 1 - 1 0 -inf\n",
      "add :  2\n",
      "compare 1 - 1 0 2\n",
      "compare 1 - 1 0 2\n",
      "compare 5 - 1 4 2\n",
      "add :  6\n",
      "compare 4 - 3 1 6\n",
      "compare 7 - 1 6 6\n",
      "compare 10 - 1 9 6\n",
      "add :  11\n",
      "compare 20 - 10 10 11\n",
      "compare 25 - 10 15 11\n",
      "add :  35\n",
      "compare 0 - 1000 -1000 35\n",
      "4\n"
     ]
    },
    {
     "data": {
      "text/plain": [
       "{'answer': 4}"
      ]
     },
     "execution_count": 13,
     "metadata": {},
     "output_type": "execute_result"
    }
   ],
   "source": [
    "minimum_camps(lst)"
   ]
  },
  {
   "cell_type": "code",
   "execution_count": 14,
   "metadata": {},
   "outputs": [
    {
     "name": "stdout",
     "output_type": "stream",
     "text": [
      "0\n"
     ]
    },
    {
     "data": {
      "text/plain": [
       "{'answer': 0}"
      ]
     },
     "execution_count": 14,
     "metadata": {},
     "output_type": "execute_result"
    }
   ],
   "source": [
    "minimum_camps([])"
   ]
  },
  {
   "cell_type": "code",
   "execution_count": null,
   "metadata": {},
   "outputs": [],
   "source": []
  },
  {
   "cell_type": "code",
   "execution_count": null,
   "metadata": {},
   "outputs": [],
   "source": []
  }
 ],
 "metadata": {
  "kernelspec": {
   "display_name": "Python [conda env:credit]",
   "language": "python",
   "name": "conda-env-credit-py"
  },
  "language_info": {
   "codemirror_mode": {
    "name": "ipython",
    "version": 3
   },
   "file_extension": ".py",
   "mimetype": "text/x-python",
   "name": "python",
   "nbconvert_exporter": "python",
   "pygments_lexer": "ipython3",
   "version": "3.6.6"
  }
 },
 "nbformat": 4,
 "nbformat_minor": 2
}
