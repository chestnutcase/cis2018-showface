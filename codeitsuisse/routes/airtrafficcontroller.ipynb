{
  "cells": [{
      "cell_type": "code",
      "execution_count": 1,
      "metadata": {},
      "outputs": [],
      "source": [
        "# assumption PlaneID is 5 characters, time in 2359\n",
        "# assuming integer time\n",
        "# sorting by distress is an issue\n",
        "# assume non-zero number of flights\n",
        "from pprint import pprint as pp"
      ]
    },
    {
      "cell_type": "code",
      "execution_count": 2,
      "metadata": {},
      "outputs": [],
      "source": [
        "jsoninput1 = {\n",
        "    \"Flights\": [\n",
        "        {\n",
        "            \"PlaneId\": \"TR123\",\n",
        "            \"Time\": \"0200\"\n",
        "        },\n",
        "        {\n",
        "            \"PlaneId\": \"SQ255\",\n",
        "            \"Time\": \"0210\"\n",
        "        },\n",
        "        {\n",
        "            \"PlaneId\": \"TH544\",\n",
        "            \"Time\": \"0155\"\n",
        "        },\n",
        "        {\n",
        "            \"PlaneId\": \"BA123\",\n",
        "            \"Time\": \"0212\"\n",
        "        },\n",
        "        {\n",
        "            \"PlaneId\": \"VA521\",\n",
        "            \"Time\": \"0230\"\n",
        "        }\n",
        "    ],\n",
        "    \"Static\": {\n",
        "        \"ReserveTime\": \"600\"\n",
        "    }\n",
        "}"
      ]
    },
    {
      "cell_type": "code",
      "execution_count": 3,
      "metadata": {},
      "outputs": [],
      "source": [
        "jsoninput2 = {\n",
        "    \"Flights\": [\n",
        "        {\n",
        "            \"PlaneId\": \"TR123\",\n",
        "            \"Time\": \"0200\"\n",
        "        },\n",
        "        {\n",
        "            \"PlaneId\": \"SQ255\",\n",
        "            \"Time\": \"0210\"\n",
        "        },\n",
        "        {\n",
        "            \"PlaneId\": \"TH544\",\n",
        "            \"Time\": \"0155\"\n",
        "        },\n",
        "        {\n",
        "            \"PlaneId\": \"BA123\",\n",
        "            \"Time\": \"0212\"\n",
        "        },\n",
        "        {\n",
        "            \"PlaneId\": \"VA521\",\n",
        "            \"Time\": \"0230\"\n",
        "        }\n",
        "    ],\n",
        "    \"Static\": {\n",
        "        \"Runways\": [\"A\", \"B\"],\n",
        "        \"ReserveTime\": \"600\"\n",
        "    }\n",
        "}"
      ]
    },
    {
      "cell_type": "code",
      "execution_count": 4,
      "metadata": {},
      "outputs": [],
      "source": [
        "jsoninput3 ={\n",
        "    \"Flights\": [\n",
        "        {\n",
        "            \"PlaneId\": \"TR123\",\n",
        "            \"Time\": \"0200\",\n",
        "            \"Distressed\": \"true\"\n",
        "        },\n",
        "        {\n",
        "            \"PlaneId\": \"SQ255\",\n",
        "            \"Time\": \"0210\"\n",
        "        },\n",
        "        {\n",
        "            \"PlaneId\": \"TH544\",\n",
        "            \"Time\": \"0155\"\n",
        "        },\n",
        "        {\n",
        "            \"PlaneId\": \"BA123\",\n",
        "            \"Time\": \"0212\"\n",
        "        },\n",
        "        {\n",
        "            \"PlaneId\": \"VA521\",\n",
        "            \"Time\": \"0230\"\n",
        "        },\n",
        "        {\n",
        "            \"PlaneId\": \"TR123\",\n",
        "            \"Time\": \"0220\",\n",
        "            \"Distressed\": \"true\"\n",
        "        },\n",
        "        {\n",
        "            \"PlaneId\": \"TR123\",\n",
        "            \"Time\": \"1221\",\n",
        "            \"Distressed\": \"true\"\n",
        "        },\n",
        "    ],\n",
        "    \"Static\": {\n",
        "        \"Runways\": [\"A\"],\n",
        "        \"ReserveTime\": \"600\"\n",
        "    }\n",
        "}"
      ]
    },
    {
      "cell_type": "code",
      "execution_count": 5,
      "metadata": {},
      "outputs": [],
      "source": [
        "# def runwayz(jsoninput):\n",
        "#     flights = jsoninput[\"Flights\"]\n",
        "#     reserve_time = jsoninput[\"Static\"]\n",
        "    \n",
        "#     if \n",
        "    \n",
        "#     print(flights)\n",
        "#     print(reserve_time)"
      ]
    },
    {
      "cell_type": "code",
      "execution_count": 6,
      "metadata": {},
      "outputs": [],
      "source": [
        "jsoninput = jsoninput2"
      ]
    },
    {
      "cell_type": "code",
      "execution_count": 7,
      "metadata": {},
      "outputs": [{
        "name": "stdout",
        "output_type": "stream",
        "text": [
          "[{'PlaneId': 'TR123', 'Time': '0200'}, {'PlaneId': 'SQ255', 'Time': '0210'}, {'PlaneId': 'TH544', 'Time': '0155'}, {'PlaneId': 'BA123', 'Time': '0212'}, {'PlaneId': 'VA521', 'Time': '0230'}]\n",
          "10\n"
        ]
      }],
      "source": [
        "flights = jsoninput[\"Flights\"]\n",
        "reserve_time = int(jsoninput[\"Static\"][\"ReserveTime\"]) // 60\n",
        "\n",
        "print(flights)\n",
        "print(reserve_time)"
      ]
    },
    {
      "cell_type": "code",
      "execution_count": 8,
      "metadata": {},
      "outputs": [{
        "name": "stdout",
        "output_type": "stream",
        "text": [
          "['A', 'B']\n"
        ]
      }],
      "source": [
        "runway_exist = False\n",
        "runways = [\"A\"]\n",
        "\n",
        "if \"Runways\" in jsoninput[\"Static\"]:\n",
        "    runway_exist = True\n",
        "    runways = jsoninput[\"Static\"][\"Runways\"]\n",
        "\n",
        "print(runways)"
      ]
    },
    {
      "cell_type": "markdown",
      "metadata": {},
      "source": [
        "# process flight time\n",
        "encode flight time into int and str, del \"Time\" key because it is a key in the solution"
      ]
    },
    {
      "cell_type": "code",
      "execution_count": 9,
      "metadata": {},
      "outputs": [{
        "name": "stdout",
        "output_type": "stream",
        "text": [
          "[{'PlaneId': 'TR123', 'str_time': '0200', 'int_time': 120}, {'PlaneId': 'SQ255', 'str_time': '0210', 'int_time': 130}, {'PlaneId': 'TH544', 'str_time': '0155', 'int_time': 115}, {'PlaneId': 'BA123', 'str_time': '0212', 'int_time': 132}, {'PlaneId': 'VA521', 'str_time': '0230', 'int_time': 150}]\n"
        ]
      }],
      "source": [
        "for flight in flights:\n",
        "    flight[\"str_time\"] = flight[\"Time\"]\n",
        "    flight[\"int_time\"] = 60 * int(flight[\"Time\"][:2]) + int(flight[\"Time\"][2:])\n",
        "    del flight[\"Time\"]\n",
        "    \n",
        "print(flights)"
      ]
    },
    {
      "cell_type": "markdown",
      "metadata": {},
      "source": [
        "# encode distress state into a string"
      ]
    },
    {
      "cell_type": "code",
      "execution_count": 10,
      "metadata": {},
      "outputs": [{
        "name": "stdout",
        "output_type": "stream",
        "text": [
          "[{'PlaneId': 'TR123', 'str_time': '0200', 'int_time': 120, 'd': '0'}, {'PlaneId': 'SQ255', 'str_time': '0210', 'int_time': 130, 'd': '0'}, {'PlaneId': 'TH544', 'str_time': '0155', 'int_time': 115, 'd': '0'}, {'PlaneId': 'BA123', 'str_time': '0212', 'int_time': 132, 'd': '0'}, {'PlaneId': 'VA521', 'str_time': '0230', 'int_time': 150, 'd': '0'}]\n"
        ]
      }],
      "source": [
        "for flight in flights:\n",
        "    flight[\"d\"] = \"0\"\n",
        "    if \"Distressed\" in flight:\n",
        "        if flight[\"Distressed\"] == \"true\":\n",
        "            flight[\"d\"] = \"1\"\n",
        "            \n",
        "print(flights)"
      ]
    },
    {
      "cell_type": "markdown",
      "metadata": {},
      "source": [
        "# append details into a superstring "
      ]
    },
    {
      "cell_type": "code",
      "execution_count": 11,
      "metadata": {},
      "outputs": [{
        "name": "stdout",
        "output_type": "stream",
        "text": [
          "[{'PlaneId': 'TR123', 'str_time': '0200', 'int_time': 120, 'd': '0', 'superstring': '0200TR1230'}, {'PlaneId': 'SQ255', 'str_time': '0210', 'int_time': 130, 'd': '0', 'superstring': '0210SQ2550'}, {'PlaneId': 'TH544', 'str_time': '0155', 'int_time': 115, 'd': '0', 'superstring': '0155TH5440'}, {'PlaneId': 'BA123', 'str_time': '0212', 'int_time': 132, 'd': '0', 'superstring': '0212BA1230'}, {'PlaneId': 'VA521', 'str_time': '0230', 'int_time': 150, 'd': '0', 'superstring': '0230VA5210'}]\n"
        ]
      }],
      "source": [
        "for flight in flights:\n",
        "    flight[\"superstring\"] = flight[\"str_time\"] + flight[\"PlaneId\"] + flight[\"d\"]\n",
        "\n",
        "print(flights)"
      ]
    },
    {
      "cell_type": "markdown",
      "metadata": {},
      "source": [
        "# inserting distress flights"
      ]
    },
    {
      "cell_type": "code",
      "execution_count": 12,
      "metadata": {},
      "outputs": [{
        "name": "stdout",
        "output_type": "stream",
        "text": [
          "[]\n"
        ]
      }],
      "source": [
        "distressed_flights = []\n",
        "\n",
        "for flight in flights:\n",
        "    if flight[\"d\"] == '1':\n",
        "        distressed_flights.append(flight)\n",
        "        \n",
        "print(distressed_flights)"
      ]
    },
    {
      "cell_type": "code",
      "execution_count": 13,
      "metadata": {},
      "outputs": [{
        "name": "stdout",
        "output_type": "stream",
        "text": [
          "[]\n"
        ]
      }],
      "source": [
        "distressed_flights = sorted(distressed_flights, key=lambda k: k['superstring']) \n",
        "print(distressed_flights)"
      ]
    },
    {
      "cell_type": "markdown",
      "metadata": {},
      "source": [
        "# sorting normal flights"
      ]
    },
    {
      "cell_type": "code",
      "execution_count": 14,
      "metadata": {},
      "outputs": [{
        "name": "stdout",
        "output_type": "stream",
        "text": [
          "[{'PlaneId': 'TR123', 'str_time': '0200', 'int_time': 120, 'd': '0', 'superstring': '0200TR1230'}, {'PlaneId': 'SQ255', 'str_time': '0210', 'int_time': 130, 'd': '0', 'superstring': '0210SQ2550'}, {'PlaneId': 'TH544', 'str_time': '0155', 'int_time': 115, 'd': '0', 'superstring': '0155TH5440'}, {'PlaneId': 'BA123', 'str_time': '0212', 'int_time': 132, 'd': '0', 'superstring': '0212BA1230'}, {'PlaneId': 'VA521', 'str_time': '0230', 'int_time': 150, 'd': '0', 'superstring': '0230VA5210'}]\n"
        ]
      }],
      "source": [
        "normal_flights = []\n",
        "\n",
        "for flight in flights:\n",
        "    if flight[\"d\"] == '0':\n",
        "        normal_flights.append(flight)\n",
        "        \n",
        "print(normal_flights)"
      ]
    },
    {
      "cell_type": "code",
      "execution_count": 15,
      "metadata": {},
      "outputs": [{
        "name": "stdout",
        "output_type": "stream",
        "text": [
          "[{'PlaneId': 'TH544', 'str_time': '0155', 'int_time': 115, 'd': '0', 'superstring': '0155TH5440'}, {'PlaneId': 'TR123', 'str_time': '0200', 'int_time': 120, 'd': '0', 'superstring': '0200TR1230'}, {'PlaneId': 'SQ255', 'str_time': '0210', 'int_time': 130, 'd': '0', 'superstring': '0210SQ2550'}, {'PlaneId': 'BA123', 'str_time': '0212', 'int_time': 132, 'd': '0', 'superstring': '0212BA1230'}, {'PlaneId': 'VA521', 'str_time': '0230', 'int_time': 150, 'd': '0', 'superstring': '0230VA5210'}]\n"
        ]
      }],
      "source": [
        "flights = sorted(normal_flights, key=lambda k: k['superstring']) \n",
        "print(flights)"
      ]
    },
    {
      "cell_type": "markdown",
      "metadata": {},
      "source": [
        "# runway sorting"
      ]
    },
    {
      "cell_type": "code",
      "execution_count": 16,
      "metadata": {},
      "outputs": [{
        "name": "stdout",
        "output_type": "stream",
        "text": [
          "[125, 115]\n",
          "[125, 130]\n",
          "[140, 130]\n",
          "[140, 142]\n",
          "[160, 142]\n"
        ]
      }],
      "source": [
        "runways_avail = [flights[0][\"int_time\"]] * len(runways)\n",
        "c = 0  # distressed_flight_counter\n",
        "\n",
        "\n",
        "for j,flight in enumerate(flights):\n",
        "    # priority for distressed flights\n",
        "    \n",
        "    reserve = False\n",
        "    \n",
        "    if c < len(distressed_flights):\n",
        "        loop_lock = True\n",
        "        \n",
        "        while loop_lock:  # in case there are consecutive distressed flights\n",
        "            print(distressed_flights[c][\"int_time\"], min(runways_avail), j)\n",
        "            if distressed_flights[c][\"int_time\"] - reserve_time < min(runways_avail):\n",
        "\n",
        "                i = runways_avail.index(min(runways_avail))\n",
        "                distressed_flights[c][\"Runway\"] = runways[i]\n",
        "                distressed_flights[c][\"arr_time\"] = distressed_flights[c][\"int_time\"]\n",
        "                # distressed_flights[c][\"insert_location\"] = j  # insert location does not matter\n",
        "\n",
        "                # reserve the time\n",
        "                runways_avail[i] = distressed_flights[c][\"int_time\"] + reserve_time\n",
        "\n",
        "                c += 1\n",
        "                if c == len(distressed_flights):\n",
        "                    loop_lock = False\n",
        "            else:\n",
        "                loop_lock = False\n",
        "    \n",
        "    # if there is a runway available at arrival time\n",
        "    for i,runway_avail in enumerate(runways_avail):\n",
        "        if flight[\"int_time\"] > runway_avail:\n",
        "            flight[\"Runway\"] = runways[i]\n",
        "            flight[\"arr_time\"] = flight[\"int_time\"]\n",
        "            \n",
        "            # reserve the time\n",
        "            runways_avail[i] = flight[\"int_time\"] + reserve_time\n",
        "            \n",
        "            print(runways_avail)\n",
        "            break\n",
        "    # there is no runway available at arrival time\n",
        "    else:\n",
        "        runway_avail = min(runways_avail)\n",
        "        i = runways_avail.index(min(runways_avail))\n",
        "        flight[\"Runway\"] = runways[i]\n",
        "        flight[\"arr_time\"] = runway_avail\n",
        "        \n",
        "        # reserve the time\n",
        "        runways_avail[i] = runway_avail + reserve_time\n",
        "        print(runways_avail)\n",
        "        \n",
        "        \n",
        "    if j == len(flights)-1 and c < len(distressed_flights):  # in case it ends with distressed flights\n",
        "        loop_lock = True\n",
        "        while loop_lock:  # in case there are consecutive distressed flights\n",
        "            print(\"===\")\n",
        "            print(distressed_flights[c][\"int_time\"], min(runways_avail), j)\n",
        "#             if distressed_flights[c][\"int_time\"] - reserve_time < min(runways_avail):\n",
        "\n",
        "            i = runways_avail.index(min(runways_avail))\n",
        "            distressed_flights[c][\"Runway\"] = runways[i]\n",
        "            distressed_flights[c][\"arr_time\"] = distressed_flights[c][\"int_time\"]\n",
        "\n",
        "            print(distressed_flights[c][\"int_time\"])\n",
        "            # distressed_flights[c][\"insert_location\"] = j  # insert location does not matter\n",
        "\n",
        "            # reserve the time\n",
        "            runways_avail[i] = distressed_flights[c][\"int_time\"] + reserve_time\n",
        "\n",
        "            c += 1\n",
        "            if c == len(distressed_flights):\n",
        "                loop_lock = False\n",
        "#             else:\n",
        "#                 loop_lock = False\n",
        "\n",
        "        "
      ]
    },
    {
      "cell_type": "code",
      "execution_count": 17,
      "metadata": {},
      "outputs": [{
        "name": "stdout",
        "output_type": "stream",
        "text": [
          "[{'PlaneId': 'TH544', 'str_time': '0155', 'int_time': 115, 'd': '0', 'superstring': '0155TH5440', 'Runway': 'A', 'arr_time': 115}, {'PlaneId': 'TR123', 'str_time': '0200', 'int_time': 120, 'd': '0', 'superstring': '0200TR1230', 'Runway': 'B', 'arr_time': 120}, {'PlaneId': 'SQ255', 'str_time': '0210', 'int_time': 130, 'd': '0', 'superstring': '0210SQ2550', 'Runway': 'A', 'arr_time': 130}, {'PlaneId': 'BA123', 'str_time': '0212', 'int_time': 132, 'd': '0', 'superstring': '0212BA1230', 'Runway': 'B', 'arr_time': 132}, {'PlaneId': 'VA521', 'str_time': '0230', 'int_time': 150, 'd': '0', 'superstring': '0230VA5210', 'Runway': 'A', 'arr_time': 150}]\n"
        ]
      }],
      "source": [
        "print(flights)"
      ]
    },
    {
      "cell_type": "code",
      "execution_count": 18,
      "metadata": {},
      "outputs": [{
        "name": "stdout",
        "output_type": "stream",
        "text": [
          "[]\n"
        ]
      }],
      "source": [
        "print(distressed_flights)"
      ]
    },
    {
      "cell_type": "code",
      "execution_count": 19,
      "metadata": {},
      "outputs": [],
      "source": [
        "for distressed_flight in distressed_flights:\n",
        "    del distressed_flight[\"Distressed\"]\n",
        "    flights.insert(0, distressed_flight)"
      ]
    },
    {
      "cell_type": "code",
      "execution_count": 20,
      "metadata": {},
      "outputs": [],
      "source": [
        "flights = sorted(flights, key=lambda k: k['arr_time']) "
      ]
    },
    {
      "cell_type": "code",
      "execution_count": 21,
      "metadata": {},
      "outputs": [{
        "name": "stdout",
        "output_type": "stream",
        "text": [
          "[{'PlaneId': 'TH544',\n",
          "  'Runway': 'A',\n",
          "  'arr_time': 115,\n",
          "  'd': '0',\n",
          "  'int_time': 115,\n",
          "  'str_time': '0155',\n",
          "  'superstring': '0155TH5440'},\n",
          " {'PlaneId': 'TR123',\n",
          "  'Runway': 'B',\n",
          "  'arr_time': 120,\n",
          "  'd': '0',\n",
          "  'int_time': 120,\n",
          "  'str_time': '0200',\n",
          "  'superstring': '0200TR1230'},\n",
          " {'PlaneId': 'SQ255',\n",
          "  'Runway': 'A',\n",
          "  'arr_time': 130,\n",
          "  'd': '0',\n",
          "  'int_time': 130,\n",
          "  'str_time': '0210',\n",
          "  'superstring': '0210SQ2550'},\n",
          " {'PlaneId': 'BA123',\n",
          "  'Runway': 'B',\n",
          "  'arr_time': 132,\n",
          "  'd': '0',\n",
          "  'int_time': 132,\n",
          "  'str_time': '0212',\n",
          "  'superstring': '0212BA1230'},\n",
          " {'PlaneId': 'VA521',\n",
          "  'Runway': 'A',\n",
          "  'arr_time': 150,\n",
          "  'd': '0',\n",
          "  'int_time': 150,\n",
          "  'str_time': '0230',\n",
          "  'superstring': '0230VA5210'}]\n"
        ]
      }],
      "source": [
        "pp(flights)"
      ]
    },
    {
      "cell_type": "code",
      "execution_count": 22,
      "metadata": {},
      "outputs": [],
      "source": [
        "for flight in flights:\n",
        "    flight['Time'] = format(flight[\"arr_time\"]//60,'02') + format(flight[\"arr_time\"]%60,'02')"
      ]
    },
    {
      "cell_type": "code",
      "execution_count": 23,
      "metadata": {},
      "outputs": [],
      "source": [
        "for flight in flights:\n",
        "    del flight['arr_time']\n",
        "    del flight['str_time']\n",
        "    del flight['int_time']\n",
        "    del flight['superstring']\n",
        "    del flight['d']"
      ]
    },
    {
      "cell_type": "code",
      "execution_count": 24,
      "metadata": {},
      "outputs": [],
      "source": [
        "if not runway_exist:\n",
        "    for flight in flights:\n",
        "        del flight['Runway']"
      ]
    },
    {
      "cell_type": "code",
      "execution_count": 25,
      "metadata": {},
      "outputs": [{
        "name": "stdout",
        "output_type": "stream",
        "text": [
          "[{'PlaneId': 'TH544', 'Runway': 'A', 'Time': '0155'},\n",
          " {'PlaneId': 'TR123', 'Runway': 'B', 'Time': '0200'},\n",
          " {'PlaneId': 'SQ255', 'Runway': 'A', 'Time': '0210'},\n",
          " {'PlaneId': 'BA123', 'Runway': 'B', 'Time': '0212'},\n",
          " {'PlaneId': 'VA521', 'Runway': 'A', 'Time': '0230'}]\n"
        ]
      }],
      "source": [
        "from pprint import pprint as pp\n",
        "pp(flights)"
      ]
    },
    {
      "cell_type": "code",
      "execution_count": 26,
      "metadata": {},
      "outputs": [],
      "source": [
        "# the function"
      ]
    },
    {
      "cell_type": "code",
      "execution_count": 5,
      "metadata": {},
      "outputs": [],
      "source": [
        "def air_traffic_controller(jsoninput):\n",
        "    flights = jsoninput[\"Flights\"]\n",
        "    reserve_time = int(jsoninput[\"Static\"][\"ReserveTime\"]) // 60\n",
        "\n",
        "    #print(flights)\n",
        "    #print(reserve_time)\n",
        "    \n",
        "    runway_exist = False\n",
        "    runways = [\"A\"]\n",
        "\n",
        "    if \"Runways\" in jsoninput[\"Static\"]:\n",
        "        runway_exist = True\n",
        "        runways = jsoninput[\"Static\"][\"Runways\"]\n",
        "\n",
        "    #print(runways)\n",
        "    \n",
        "    for flight in flights:\n",
        "        flight[\"str_time\"] = flight[\"Time\"]\n",
        "        flight[\"int_time\"] = 60 * int(flight[\"Time\"][:2]) + int(flight[\"Time\"][2:])\n",
        "        del flight[\"Time\"]\n",
        "\n",
        "    #print(flights)    \n",
        "\n",
        "    for flight in flights:\n",
        "        flight[\"d\"] = \"0\"\n",
        "        if \"Distressed\" in flight:\n",
        "            if flight[\"Distressed\"] == \"true\":\n",
        "                flight[\"d\"] = \"1\"\n",
        "\n",
        "    #print(flights)\n",
        "\n",
        "    for flight in flights:\n",
        "        flight[\"superstring\"] = flight[\"str_time\"] + flight[\"PlaneId\"] + flight[\"d\"]\n",
        "\n",
        "    #print(flights)\n",
        "\n",
        "    distressed_flights = []\n",
        "\n",
        "    for flight in flights:\n",
        "        if flight[\"d\"] == '1':\n",
        "            distressed_flights.append(flight)\n",
        "\n",
        "    #print(distressed_flights)\n",
        "\n",
        "    distressed_flights = sorted(distressed_flights, key=lambda k: k['superstring']) \n",
        "    #print(distressed_flights)\n",
        "\n",
        "\n",
        "    normal_flights = []\n",
        "\n",
        "    for flight in flights:\n",
        "        if flight[\"d\"] == '0':\n",
        "            normal_flights.append(flight)\n",
        "\n",
        "    #print(normal_flights)\n",
        "\n",
        "    flights = sorted(normal_flights, key=lambda k: k['superstring']) \n",
        "    #print(flights)\n",
        "\n",
        "    runways_avail = [flights[0][\"int_time\"]] * len(runways)\n",
        "    c = 0  # distressed_flight_counter\n",
        "\n",
        "\n",
        "    for j,flight in enumerate(flights):\n",
        "        # priority for distressed flights\n",
        "\n",
        "        reserve = False\n",
        "\n",
        "        if c < len(distressed_flights):\n",
        "            loop_lock = True\n",
        "\n",
        "            while loop_lock:  # in case there are consecutive distressed flights\n",
        "                #print(distressed_flights[c][\"int_time\"], min(runways_avail), j)\n",
        "                if distressed_flights[c][\"int_time\"] - reserve_time < min(runways_avail):\n",
        "\n",
        "                    i = runways_avail.index(min(runways_avail))\n",
        "                    distressed_flights[c][\"Runway\"] = runways[i]\n",
        "                    distressed_flights[c][\"arr_time\"] = distressed_flights[c][\"int_time\"]\n",
        "                    # distressed_flights[c][\"insert_location\"] = j  # insert location does not matter\n",
        "\n",
        "                    # reserve the time\n",
        "                    runways_avail[i] = distressed_flights[c][\"int_time\"] + reserve_time\n",
        "\n",
        "                    c += 1\n",
        "                    if c == len(distressed_flights):\n",
        "                        loop_lock = False\n",
        "                else:\n",
        "                    loop_lock = False\n",
        "\n",
        "        # if there is a runway available at arrival time\n",
        "        for i,runway_avail in enumerate(runways_avail):\n",
        "            if flight[\"int_time\"] > runway_avail:\n",
        "                flight[\"Runway\"] = runways[i]\n",
        "                flight[\"arr_time\"] = flight[\"int_time\"]\n",
        "\n",
        "                # reserve the time\n",
        "                runways_avail[i] = flight[\"int_time\"] + reserve_time\n",
        "\n",
        "                #print(runways_avail)\n",
        "                break\n",
        "        # there is no runway available at arrival time\n",
        "        else:\n",
        "            runway_avail = min(runways_avail)\n",
        "            i = runways_avail.index(min(runways_avail))\n",
        "            flight[\"Runway\"] = runways[i]\n",
        "            flight[\"arr_time\"] = runway_avail\n",
        "\n",
        "            # reserve the time\n",
        "            runways_avail[i] = runway_avail + reserve_time\n",
        "            #print(runways_avail)\n",
        "\n",
        "\n",
        "        if j == len(flights)-1 and c < len(distressed_flights):  # in case it ends with distressed flights\n",
        "            loop_lock = True\n",
        "            while loop_lock:  # in case there are consecutive distressed flights\n",
        "                #print(\"===\")\n",
        "                #print(distressed_flights[c][\"int_time\"], min(runways_avail), j)\n",
        "    #             if distressed_flights[c][\"int_time\"] - reserve_time < min(runways_avail):\n",
        "\n",
        "                i = runways_avail.index(min(runways_avail))\n",
        "                distressed_flights[c][\"Runway\"] = runways[i]\n",
        "                distressed_flights[c][\"arr_time\"] = distressed_flights[c][\"int_time\"]\n",
        "\n",
        "                #print(distressed_flights[c][\"int_time\"])\n",
        "                # distressed_flights[c][\"insert_location\"] = j  # insert location does not matter\n",
        "\n",
        "                # reserve the time\n",
        "                runways_avail[i] = distressed_flights[c][\"int_time\"] + reserve_time\n",
        "\n",
        "                c += 1\n",
        "                if c == len(distressed_flights):\n",
        "                    loop_lock = False\n",
        "    #             else:\n",
        "    #                 loop_lock = False\n",
        "\n",
        "\n",
        "    for distressed_flight in distressed_flights:\n",
        "        del distressed_flight[\"Distressed\"]\n",
        "        flights.insert(0, distressed_flight)\n",
        "\n",
        "    flights = sorted(flights, key=lambda k: k['arr_time']) \n",
        "\n",
        "\n",
        "    for flight in flights:\n",
        "        flight['Time'] = format(flight[\"arr_time\"]//60,'02') + format(flight[\"arr_time\"]%60,'02')\n",
        "\n",
        "    for flight in flights:\n",
        "        del flight['arr_time']\n",
        "        del flight['str_time']\n",
        "        del flight['int_time']\n",
        "        del flight['superstring']\n",
        "        del flight['d']\n",
        "\n",
        "    if not runway_exist:\n",
        "        for flight in flights:\n",
        "            del flight['Runway']\n",
        "\n",
        "    return {\"Flights\":flights}"
      ]
    },
    {
      "cell_type": "code",
      "execution_count": 6,
      "metadata": {},
      "outputs": [],
      "source": [
        "# above copied to the pythonfile"
      ]
    },
    {
      "cell_type": "code",
      "execution_count": 7,
      "metadata": {},
      "outputs": [{
        "data": {
          "text/plain": [
            "{'Flights': [{'PlaneId': 'TH544', 'Time': '0155'},\n",
            "  {'PlaneId': 'TR123', 'Time': '0205'},\n",
            "  {'PlaneId': 'SQ255', 'Time': '0215'},\n",
            "  {'PlaneId': 'BA123', 'Time': '0225'},\n",
            "  {'PlaneId': 'VA521', 'Time': '0235'}]}"
          ]
        },
        "execution_count": 7,
        "metadata": {},
        "output_type": "execute_result"
      }],
      "source": [
        "air_traffic_controller(jsoninput1)"
      ]
    },
    {
      "cell_type": "code",
      "execution_count": 8,
      "metadata": {},
      "outputs": [{
        "data": {
          "text/plain": [
            "{'Flights': [{'PlaneId': 'TH544', 'Runway': 'A', 'Time': '0155'},\n",
            "  {'PlaneId': 'TR123', 'Runway': 'B', 'Time': '0200'},\n",
            "  {'PlaneId': 'SQ255', 'Runway': 'A', 'Time': '0210'},\n",
            "  {'PlaneId': 'BA123', 'Runway': 'B', 'Time': '0212'},\n",
            "  {'PlaneId': 'VA521', 'Runway': 'A', 'Time': '0230'}]}"
          ]
        },
        "execution_count": 8,
        "metadata": {},
        "output_type": "execute_result"
      }],
      "source": [
        "air_traffic_controller(jsoninput2)"
      ]
    },
    {
      "cell_type": "code",
      "execution_count": 9,
      "metadata": {},
      "outputs": [{
        "data": {
          "text/plain": [
            "{'Flights': [{'PlaneId': 'TR123', 'Runway': 'A', 'Time': '0200'},\n",
            "  {'PlaneId': 'TH544', 'Runway': 'A', 'Time': '0210'},\n",
            "  {'PlaneId': 'TR123', 'Runway': 'A', 'Time': '0220'},\n",
            "  {'PlaneId': 'SQ255', 'Runway': 'A', 'Time': '0230'},\n",
            "  {'PlaneId': 'BA123', 'Runway': 'A', 'Time': '0240'},\n",
            "  {'PlaneId': 'VA521', 'Runway': 'A', 'Time': '0250'},\n",
            "  {'PlaneId': 'TR123', 'Runway': 'A', 'Time': '1221'}]}"
          ]
        },
        "execution_count": 9,
        "metadata": {},
        "output_type": "execute_result"
      }],
      "source": [
        "air_traffic_controller(jsoninput3)"
      ]
    },
    {
      "cell_type": "code",
      "execution_count": null,
      "metadata": {},
      "outputs": [],
      "source": []
    },
    {
      "cell_type": "code",
      "execution_count": null,
      "metadata": {},
      "outputs": [],
      "source": []
    }
  ],
  "metadata": {
    "kernelspec": {
      "display_name": "Python [conda env:dw]",
      "language": "python",
      "name": "conda-env-dw-py"
    },
    "language_info": {
      "codemirror_mode": {
        "name": "ipython",
        "version": 3
      },
      "file_extension": ".py",
      "mimetype": "text/x-python",
      "name": "python",
      "nbconvert_exporter": "python",
      "pygments_lexer": "ipython3",
      "version": "3.6.5"
    }
  },
  "nbformat": 4,
  "nbformat_minor": 2
}
