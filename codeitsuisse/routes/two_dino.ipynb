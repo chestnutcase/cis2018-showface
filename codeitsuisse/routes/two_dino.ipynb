{
 "cells": [
  {
   "cell_type": "code",
   "execution_count": 44,
   "metadata": {},
   "outputs": [],
   "source": [
    "jsoninput = {\n",
    "    \"number_of_types_of_food\" : 2,\n",
    "    \"calories_for_each_type_for_raphael\" : [4,5],\n",
    "    \"calories_for_each_type_for_leonardo\" :  [3,6],\n",
    "    \"maximum_difference_for_calories\": 3\n",
    "}\n",
    "\n",
    "difference = jsoninput[\"maximum_difference_for_calories\"]\n",
    "A = jsoninput[\"calories_for_each_type_for_raphael\"]\n",
    "B = jsoninput[\"calories_for_each_type_for_leonardo\"]\n",
    "MODULO = 100000123 "
   ]
  },
  {
   "cell_type": "code",
   "execution_count": 34,
   "metadata": {},
   "outputs": [],
   "source": [
    "# A = [4,5]\n",
    "# B = [3,6]\n",
    "\n",
    "# B = [-x for x in B]\n",
    "# difference = 3"
   ]
  },
  {
   "cell_type": "code",
   "execution_count": 35,
   "metadata": {},
   "outputs": [
    {
     "name": "stdout",
     "output_type": "stream",
     "text": [
      "[4, 5, -3, -6]\n",
      "[-3, 4, 5, -6]\n",
      "6\n"
     ]
    }
   ],
   "source": [
    "max_value = max(max(B),max(A))\n",
    "\n",
    "# do some sorting here\n",
    "B = [-x for x in B]\n",
    "\n",
    "C = A+B\n",
    "print(C)\n",
    "C = sorted(C, key=abs)\n",
    "print(C)\n",
    "print(max_value)"
   ]
  },
  {
   "cell_type": "code",
   "execution_count": 36,
   "metadata": {},
   "outputs": [
    {
     "name": "stdout",
     "output_type": "stream",
     "text": [
      "[0, 0, 0, 0, 0, 0, 0, 0, 0, 1, 0, 0, 0, 0, 0, 0, 0, 0, 0]\n",
      "\n",
      "\n",
      "-3\n",
      "[0, 0, 0, 0, 0, 0, 1, 0, 0, 0, 0, 0, 0, 0, 0, 0, 0, 0, 0]\n",
      "[0, 0, 0, 0, 0, 0, 0, 0, 0, 1, 0, 0, 0, 0, 0, 0, 0, 0, 0]\n",
      "[0, 0, 0, 0, 0, 0, 1, 0, 0, 1, 0, 0, 0, 0, 0, 0, 0, 0, 0]\n",
      "\n",
      "4\n",
      "[0, 0, 0, 0, 0, 0, 0, 0, 0, 0, 1, 0, 0, 1, 0, 0, 0, 0, 0]\n",
      "[0, 0, 0, 0, 0, 0, 1, 0, 0, 1, 0, 0, 0, 0, 0, 0, 0, 0, 0]\n",
      "[0, 0, 0, 0, 0, 0, 1, 0, 0, 1, 1, 0, 0, 1, 0, 0, 0, 0, 0]\n",
      "\n",
      "5\n",
      "[0, 0, 0, 0, 0, 0, 0, 0, 0, 0, 0, 1, 0, 0, 1, 1, 0, 0, 1]\n",
      "[0, 0, 0, 0, 0, 0, 1, 0, 0, 1, 1, 0, 0, 1, 0, 0, 0, 0, 0]\n",
      "[0, 0, 0, 0, 0, 0, 1, 0, 0, 1, 1, 1, 0, 1, 1, 1, 0, 0, 1]\n",
      "\n",
      "-6\n",
      "[1, 0, 0, 1, 1, 1, 0, 1, 1, 1, 0, 0, 1, 0, 0, 0, 0, 0, 0]\n",
      "[0, 0, 0, 0, 0, 0, 1, 0, 0, 1, 1, 1, 0, 1, 1, 1, 0, 0, 1]\n",
      "[1, 0, 0, 1, 1, 1, 1, 1, 1, 2, 1, 1, 1, 1, 1, 1, 0, 0, 1]\n"
     ]
    }
   ],
   "source": [
    "length = 3*difference\n",
    "limits = [0 for _ in range(2*length + 1)]\n",
    "limits[length] = 1\n",
    "# position length + 1 is 0\n",
    "\n",
    "print(limits)\n",
    "print()\n",
    "\n",
    "for x in C:\n",
    "    print()\n",
    "    print(x)\n",
    "    \n",
    "    if x == 0:\n",
    "        array_1 = limits\n",
    "    if x > 0:\n",
    "        array_1 = ([0]*x)+limits[:-x]\n",
    "    elif x < 0:\n",
    "        array_1 = limits[-x:] + ([0]*(-x))\n",
    "    array_2 = limits\n",
    "    \n",
    "    print(array_1)\n",
    "    print(array_2)\n",
    "    \n",
    "    limits = [x+y%MODULO for x,y in zip(array_1,array_2)]\n",
    "    print(limits)"
   ]
  },
  {
   "cell_type": "code",
   "execution_count": 37,
   "metadata": {},
   "outputs": [
    {
     "name": "stdout",
     "output_type": "stream",
     "text": [
      "\n",
      "result\n",
      "8\n"
     ]
    }
   ],
   "source": [
    "print(\"\\nresult\")\n",
    "relevant_range = limits[length - difference: -(length - difference)]\n",
    "print(sum([x%MODULO for x in relevant_range]))"
   ]
  },
  {
   "cell_type": "code",
   "execution_count": 45,
   "metadata": {},
   "outputs": [],
   "source": [
    "def the_function(jsoninput):\n",
    "    difference = jsoninput[\"maximum_difference_for_calories\"]\n",
    "    A = jsoninput[\"calories_for_each_type_for_raphael\"]\n",
    "    B = jsoninput[\"calories_for_each_type_for_leonardo\"]\n",
    "    MODULO = 100000123 \n",
    "    \n",
    "    max_value = max(max(B),max(A))\n",
    "\n",
    "    # do some sorting here\n",
    "    B = [-x for x in B]\n",
    "\n",
    "    C = A+B\n",
    "    #print(C)\n",
    "    C = sorted(C, key=abs)\n",
    "    #print(C)\n",
    "    #print(max_value)\n",
    "    \n",
    "    \n",
    "    length = 3*difference\n",
    "    limits = [0 for _ in range(2*length + 1)]\n",
    "    limits[length] = 1\n",
    "    # position length + 1 is 0\n",
    "\n",
    "    #print(limits)\n",
    "    #print()\n",
    "\n",
    "    for x in C:\n",
    "        #print()\n",
    "        #print(x)\n",
    "\n",
    "        if x == 0:\n",
    "            array_1 = limits\n",
    "        if x > 0:\n",
    "            array_1 = ([0]*x)+limits[:-x]\n",
    "        elif x < 0:\n",
    "            array_1 = limits[-x:] + ([0]*(-x))\n",
    "        array_2 = limits\n",
    "\n",
    "        #print(array_1)\n",
    "        #print(array_2)\n",
    "\n",
    "        limits = [x+y%MODULO for x,y in zip(array_1,array_2)]\n",
    "        #print(limits)\n",
    "        \n",
    "    #print(\"\\nresult\")\n",
    "    relevant_range = limits[length - difference: -(length - difference)]\n",
    "    result = sum([x%MODULO for x in relevant_range])\n",
    "    \n",
    "    return {\"result\":result}"
   ]
  },
  {
   "cell_type": "code",
   "execution_count": 43,
   "metadata": {},
   "outputs": [
    {
     "name": "stdout",
     "output_type": "stream",
     "text": [
      "{'result': 8}\n"
     ]
    }
   ],
   "source": [
    "print(the_function(jsoninput))"
   ]
  },
  {
   "cell_type": "code",
   "execution_count": null,
   "metadata": {},
   "outputs": [],
   "source": []
  },
  {
   "cell_type": "code",
   "execution_count": null,
   "metadata": {},
   "outputs": [],
   "source": []
  },
  {
   "cell_type": "code",
   "execution_count": null,
   "metadata": {},
   "outputs": [],
   "source": []
  },
  {
   "cell_type": "code",
   "execution_count": null,
   "metadata": {},
   "outputs": [],
   "source": []
  },
  {
   "cell_type": "code",
   "execution_count": null,
   "metadata": {},
   "outputs": [],
   "source": []
  },
  {
   "cell_type": "code",
   "execution_count": 40,
   "metadata": {},
   "outputs": [
    {
     "ename": "NameError",
     "evalue": "name 'minimum_value' is not defined",
     "output_type": "error",
     "traceback": [
      "\u001b[0;31m---------------------------------------------------------------------------\u001b[0m",
      "\u001b[0;31mNameError\u001b[0m                                 Traceback (most recent call last)",
      "\u001b[0;32m<ipython-input-40-67866b89c8f3>\u001b[0m in \u001b[0;36m<module>\u001b[0;34m()\u001b[0m\n\u001b[0;32m----> 1\u001b[0;31m \u001b[0mlength\u001b[0m \u001b[0;34m=\u001b[0m \u001b[0mminimum_value\u001b[0m\u001b[0;34m*\u001b[0m\u001b[0mlen\u001b[0m\u001b[0;34m(\u001b[0m\u001b[0marr\u001b[0m\u001b[0;34m)\u001b[0m\u001b[0;34m\u001b[0m\u001b[0m\n\u001b[0m\u001b[1;32m      2\u001b[0m \u001b[0mprint\u001b[0m\u001b[0;34m(\u001b[0m\u001b[0mlength\u001b[0m\u001b[0;34m)\u001b[0m\u001b[0;34m\u001b[0m\u001b[0m\n\u001b[1;32m      3\u001b[0m \u001b[0mlimits\u001b[0m \u001b[0;34m=\u001b[0m \u001b[0;34m[\u001b[0m\u001b[0;36m0\u001b[0m\u001b[0;34m]\u001b[0m\u001b[0;34m*\u001b[0m\u001b[0;34m(\u001b[0m\u001b[0mlength\u001b[0m\u001b[0;34m)\u001b[0m\u001b[0;34m\u001b[0m\u001b[0m\n\u001b[1;32m      4\u001b[0m \u001b[0mprint\u001b[0m\u001b[0;34m(\u001b[0m\u001b[0mlimits\u001b[0m\u001b[0;34m)\u001b[0m\u001b[0;34m\u001b[0m\u001b[0m\n\u001b[1;32m      5\u001b[0m \u001b[0mlimits\u001b[0m\u001b[0;34m[\u001b[0m\u001b[0;36m0\u001b[0m\u001b[0;34m]\u001b[0m \u001b[0;34m=\u001b[0m \u001b[0;36m1\u001b[0m\u001b[0;34m\u001b[0m\u001b[0m\n",
      "\u001b[0;31mNameError\u001b[0m: name 'minimum_value' is not defined"
     ]
    }
   ],
   "source": [
    "length = minimum_value*len(arr)\n",
    "print(length)\n",
    "limits = [0]*(length)\n",
    "print(limits)\n",
    "limits[0] = 1\n",
    "\n",
    "print(limits)\n",
    "\n",
    "for x in arr:\n",
    "    print()\n",
    "    print(x)\n",
    "\n",
    "    \n",
    "    if x == 0:\n",
    "        array_1 = limits\n",
    "    else:\n",
    "        array_1 = ([0]*x)+limits[:-x]\n",
    "    array_2 = limits\n",
    "    \n",
    "    print(array_1)\n",
    "    print(array_2)\n",
    "    \n",
    "    limits = [x+y for x,y in zip(array_1,array_2)]\n",
    "    print(limits)\n",
    "    \n",
    "print(\"\\nresult\")\n",
    "print(sum(limits[:(1 + 2*limit)]))\n",
    "print(sum(limits[-(1 + 2*limit):]))\n",
    "print(sum(limits[:]))"
   ]
  },
  {
   "cell_type": "code",
   "execution_count": null,
   "metadata": {},
   "outputs": [],
   "source": [
    "x = 3\n",
    "print(([0]*x).extend(limits[:-x]))"
   ]
  },
  {
   "cell_type": "code",
   "execution_count": null,
   "metadata": {},
   "outputs": [],
   "source": [
    "print(([[1 for _ in range(10)]]).extend([1 for _ in range(10)]))"
   ]
  },
  {
   "cell_type": "code",
   "execution_count": null,
   "metadata": {},
   "outputs": [],
   "source": [
    "print([0]*4)"
   ]
  },
  {
   "cell_type": "code",
   "execution_count": null,
   "metadata": {},
   "outputs": [],
   "source": [
    "A = [1 for _ in range(10)]"
   ]
  },
  {
   "cell_type": "code",
   "execution_count": null,
   "metadata": {},
   "outputs": [],
   "source": [
    "A+B"
   ]
  },
  {
   "cell_type": "code",
   "execution_count": null,
   "metadata": {},
   "outputs": [],
   "source": [
    "Z = [1,2,3,4]\n",
    "Z[:0]"
   ]
  },
  {
   "cell_type": "code",
   "execution_count": null,
   "metadata": {},
   "outputs": [],
   "source": []
  }
 ],
 "metadata": {
  "kernelspec": {
   "display_name": "Python [conda env:credit]",
   "language": "python",
   "name": "conda-env-credit-py"
  },
  "language_info": {
   "codemirror_mode": {
    "name": "ipython",
    "version": 3
   },
   "file_extension": ".py",
   "mimetype": "text/x-python",
   "name": "python",
   "nbconvert_exporter": "python",
   "pygments_lexer": "ipython3",
   "version": "3.6.6"
  }
 },
 "nbformat": 4,
 "nbformat_minor": 2
}
