{
 "cells": [
  {
   "cell_type": "code",
   "execution_count": null,
   "metadata": {},
   "outputs": [],
   "source": [
    "from pprint import pprint as pp\n",
    "from copy import deepcopy as d\n",
    "import matplotlib.pyplot as plt\n",
    "\n",
    "def ps(game_state): # plot state\n",
    "    plt.figure(figsize=(2,4))\n",
    "    plt.axis([-1, 10, -1, 21])\n",
    "    for i, row in enumerate(game_state):\n",
    "        for j, col in enumerate(row):\n",
    "            if game_state[i][j] == 1:\n",
    "                plt.scatter(j,i)\n",
    "    plt.show()"
   ]
  },
  {
   "cell_type": "code",
   "execution_count": null,
   "metadata": {},
   "outputs": [],
   "source": [
    "game_state = [[0] * 10 for _ in range(20)]\n",
    "game_state_empty = d(game_state)\n",
    "\n",
    "# game_state[0] = [1]*10\n",
    "# game_state[1][1] = 1  # y then x\n",
    "# game_state[1][2] = 1\n",
    "# game_state[1][3] = 1\n",
    "# game_state[2][2] = 1\n",
    "# game_state[2][3] = 1\n",
    "# # game_state[5][5] = 1\n",
    "\n",
    "# # game_state[10] = [1]*10\n",
    "# # game_state[11] = [1,0,1,0,1,0,1,0,1,0]\n",
    "\n",
    "# game_state_x = d(game_state)"
   ]
  },
  {
   "cell_type": "code",
   "execution_count": null,
   "metadata": {},
   "outputs": [],
   "source": [
    "game_state_p = [\n",
    "     [1, 1, 1, 1, 1, 1, 1, 1, 0, 0],\n",
    "     [1, 1, 1, 1, 1, 1, 1, 0, 0, 0],\n",
    "     [1, 0, 0, 0, 0, 0, 1, 0, 0, 0],\n",
    "     [0, 0, 0, 0, 0, 0, 0, 0, 0, 0],\n",
    "     [0, 0, 0, 0, 0, 0, 0, 0, 0, 0],\n",
    "     [0, 0, 0, 0, 0, 0, 0, 0, 0, 0],\n",
    "     [0, 0, 0, 0, 0, 0, 0, 0, 0, 0],\n",
    "     [0, 0, 0, 0, 0, 0, 0, 0, 0, 0],\n",
    "     [0, 0, 0, 0, 0, 0, 0, 0, 0, 0],\n",
    "     [0, 0, 0, 0, 0, 0, 0, 0, 0, 0],\n",
    "     [0, 0, 0, 0, 0, 0, 0, 0, 0, 0],\n",
    "     [0, 0, 0, 0, 0, 0, 0, 0, 0, 0],\n",
    "     [0, 0, 0, 0, 0, 0, 0, 0, 0, 0],\n",
    "     [0, 0, 0, 0, 0, 0, 0, 0, 0, 0],\n",
    "     [0, 0, 0, 0, 0, 0, 0, 0, 0, 0],\n",
    "     [0, 0, 0, 0, 0, 0, 0, 0, 0, 0],\n",
    "     [0, 0, 0, 0, 0, 0, 0, 0, 0, 0],\n",
    "     [0, 0, 0, 0, 0, 0, 0, 0, 0, 0],\n",
    "     [0, 0, 0, 0, 0, 0, 0, 0, 0, 0],\n",
    "     [0, 0, 0, 0, 0, 0, 0, 0, 0, 0]\n",
    "]"
   ]
  },
  {
   "cell_type": "code",
   "execution_count": null,
   "metadata": {},
   "outputs": [],
   "source": [
    "# pp(game_state_p)"
   ]
  },
  {
   "cell_type": "code",
   "execution_count": null,
   "metadata": {},
   "outputs": [],
   "source": [
    "# ps(game_state_x)"
   ]
  },
  {
   "cell_type": "code",
   "execution_count": null,
   "metadata": {},
   "outputs": [],
   "source": [
    "def resolve_rows(game_state):\n",
    "    game_state = d(game_state)\n",
    "    rows_to_remove = []\n",
    "    for i,row in enumerate(game_state):\n",
    "        if row == [1]*10:\n",
    "            rows_to_remove.append(i)\n",
    "            \n",
    "    for row_num in rows_to_remove[::-1]:\n",
    "        del game_state[row_num]\n",
    "        \n",
    "    for _ in range(len(rows_to_remove)):\n",
    "        game_state.append([0]*10)\n",
    "    \n",
    "    return game_state"
   ]
  },
  {
   "cell_type": "code",
   "execution_count": null,
   "metadata": {},
   "outputs": [],
   "source": [
    "# ps(resolve_rows(d(game_state)))"
   ]
  },
  {
   "cell_type": "code",
   "execution_count": null,
   "metadata": {},
   "outputs": [],
   "source": []
  },
  {
   "cell_type": "code",
   "execution_count": null,
   "metadata": {},
   "outputs": [],
   "source": [
    "def calcuate_roof(game_state):\n",
    "    game_state = d(game_state)\n",
    "    columns = list(zip(*game_state))\n",
    "#     print(columns)\n",
    "    return [-column[::-1].index(max(column)) % 20 for column in columns]"
   ]
  },
  {
   "cell_type": "code",
   "execution_count": null,
   "metadata": {},
   "outputs": [],
   "source": [
    "# calcuate_roof(game_state)"
   ]
  },
  {
   "cell_type": "code",
   "execution_count": null,
   "metadata": {},
   "outputs": [],
   "source": []
  },
  {
   "cell_type": "code",
   "execution_count": null,
   "metadata": {},
   "outputs": [],
   "source": [
    "def calculate_holes(game_state):\n",
    "    game_state = d(game_state)\n",
    "    \n",
    "#     print(\"calculate_holes\")\n",
    "#     pp(game_state)\n",
    "\n",
    "    difference_state = []\n",
    "    for row_num in range(len(game_state)-1):\n",
    "        row_difference = [x-y for x,y in zip(game_state[row_num], game_state[row_num+1])]\n",
    "        difference_state.append(row_difference)\n",
    "        \n",
    "    number_of_holes = sum([i.count(-1) for i in difference_state])\n",
    "\n",
    "#     pp(difference_state)\n",
    "#     print(number_of_holes)\n",
    "    \n",
    "    return number_of_holes"
   ]
  },
  {
   "cell_type": "code",
   "execution_count": null,
   "metadata": {},
   "outputs": [],
   "source": [
    "# print(calculate_holes(game_state))"
   ]
  },
  {
   "cell_type": "code",
   "execution_count": null,
   "metadata": {},
   "outputs": [],
   "source": []
  },
  {
   "cell_type": "code",
   "execution_count": null,
   "metadata": {},
   "outputs": [],
   "source": [
    "def calculate_borders(game_state):\n",
    "#     ps(game_state)\n",
    "    game_state = d(game_state)\n",
    "    borders = 0\n",
    "    \n",
    "    for row in game_state:\n",
    "        borders += 10*[y-x for x,y in zip(row[1:], row[:-1])].count(-1)\n",
    "        borders += 10*[y-x for x,y in zip(row[:-1], row[1:])].count(-1)\n",
    "        \n",
    "    for i,row in enumerate(game_state[:-1]):\n",
    "        borders += [x-y for x,y in zip(row[1:], game_state[i+1][:-1])].count(-1)\n",
    "        borders += [x-y for x,y in zip(row[:-1], game_state[i+1][1:])].count(-1)\n",
    "        \n",
    "    for i,row in enumerate(game_state[:-2]):\n",
    "        borders += [x-y for x,y in zip(row[1:], game_state[i+2][:-1])].count(-1)\n",
    "        borders += [x-y for x,y in zip(row[:-1], game_state[i+2][1:])].count(-1)\n",
    "        \n",
    "    for i,row in enumerate(game_state[:-3]):\n",
    "        borders += [x-y for x,y in zip(row[1:], game_state[i+3][:-1])].count(-1)\n",
    "        borders += [x-y for x,y in zip(row[:-1], game_state[i+3][1:])].count(-1)\n",
    "\n",
    "    for i,row in enumerate(game_state[:-4]):\n",
    "        borders += 10*[x-y for x,y in zip(row[1:], game_state[i+4][:-1])].count(-1)\n",
    "        borders += 10*[x-y for x,y in zip(row[:-1], game_state[i+4][1:])].count(-1)\n",
    "        \n",
    "    return borders"
   ]
  },
  {
   "cell_type": "code",
   "execution_count": null,
   "metadata": {},
   "outputs": [],
   "source": [
    "# pp(calculate_borders(game_state))"
   ]
  },
  {
   "cell_type": "code",
   "execution_count": null,
   "metadata": {},
   "outputs": [],
   "source": []
  },
  {
   "cell_type": "code",
   "execution_count": null,
   "metadata": {},
   "outputs": [],
   "source": [
    "def add_element(game_state, block_char):\n",
    "    game_state = d(game_state)\n",
    "    # this is to try out all rotations (and then location)\n",
    "    \n",
    "    blocks = list(\"IJLOSTZ\")\n",
    "    block = blocks.index(block_char)\n",
    "    \n",
    "    scores = []\n",
    "    moves = []\n",
    "    \n",
    "    for rotate in range(4):\n",
    "        score, move = move_element(game_state, block, rotate)\n",
    "        scores.append(score)\n",
    "        moves.append(move)\n",
    "        \n",
    "    the_rotate = scores.index(min(scores))\n",
    "    the_move = moves[the_rotate]\n",
    "    \n",
    "    game_state, score = drop_element(d(game_state), block, the_rotate, the_move, update=True)\n",
    "    print(\"hole_score: \", calculate_holes(game_state))\n",
    "    \n",
    "#     game_state = resolve_rows(d(game_state))\n",
    "#     print(\"add :\", scores)\n",
    "    \n",
    "    return game_state, 10*the_rotate + the_move, score"
   ]
  },
  {
   "cell_type": "code",
   "execution_count": null,
   "metadata": {},
   "outputs": [],
   "source": [
    "def move_element(game_state, block, rotate):\n",
    "    game_state = d(game_state)\n",
    "    # this is to try out all location given block and rotation\n",
    "    \n",
    "    scores = []\n",
    "    \n",
    "#     ps(game_state)\n",
    "    \n",
    "    for move in range(10-widths[block][rotate]):\n",
    "        scores.append(drop_element(game_state, block, rotate, move))\n",
    "        \n",
    "    move = scores.index(min(scores))\n",
    "#     print(\"move :\", scores)\n",
    "    \n",
    "    return min(scores),move"
   ]
  },
  {
   "cell_type": "code",
   "execution_count": null,
   "metadata": {},
   "outputs": [],
   "source": [
    "def drop_element(game_state, block, rotate, move, update=False):\n",
    "    game_state = d(game_state)\n",
    "    # this is to calculate the dropdown and how good it is\n",
    "    \n",
    "    block_cells = cells[block][rotate]\n",
    "    block_bases = bases[block][rotate]\n",
    "    \n",
    "#     print(block_cells)\n",
    "#     print(block_bases)\n",
    "    \n",
    "    height = calculate_drop_height(game_state, block, rotate, move)\n",
    "    \n",
    "    for point in block_cells:\n",
    "        if point[1]+height >= 19:\n",
    "            print(\"OVERFLOW\")\n",
    "        \n",
    "        \n",
    "        if game_state[point[1]+height][point[0]+move] != 0:  # row then column\n",
    "            print(\"ERROR\")\n",
    "            print(point[1]+height, point[0]+move)\n",
    "            print(game_state[point[1]+height][point[0]+move])\n",
    "            \n",
    "#         print(point[1]+height, point[0]+move)\n",
    "#         print(game_state[point[1]+height][point[0]+move])    \n",
    "        game_state[point[1]+height][point[0]+move] = 1\n",
    "    \n",
    "#         if update:\n",
    "#             print([point[1]+height],[point[0]+move])\n",
    "    \n",
    "\n",
    "    \n",
    "    score = 100000*calculate_holes(game_state) + calculate_borders(game_state)\n",
    "    # discourages (especially) overhang and borders\n",
    "\n",
    "    if update:\n",
    "        return game_state, score\n",
    "    \n",
    "    return score"
   ]
  },
  {
   "cell_type": "code",
   "execution_count": null,
   "metadata": {},
   "outputs": [],
   "source": [
    "def calculate_drop_height(game_state, block, rotate, move):\n",
    "    game_state = d(game_state)\n",
    "    block_bases = bases[block][rotate]\n",
    "    block_base_line = [point[1] for point in block_bases]\n",
    "#     print(block_base_line)\n",
    "    roof = calcuate_roof(game_state)\n",
    "    \n",
    "    relevant_roof = [roof[i+move] for i in range(len(block_base_line))]\n",
    "    \n",
    "#     print(block_base_line)\n",
    "#     print(relevant_roof)\n",
    "    \n",
    "    difference = [(100*(x-y) - x) for x,y in zip(relevant_roof,block_base_line)]\n",
    "    index = difference.index(max(difference))\n",
    "    \n",
    "    return relevant_roof[index]  # because do not add to existing space"
   ]
  },
  {
   "cell_type": "code",
   "execution_count": null,
   "metadata": {},
   "outputs": [],
   "source": [
    "# calculate_drop_height(d(game_state_p), 4, 3, 3)"
   ]
  },
  {
   "cell_type": "code",
   "execution_count": null,
   "metadata": {},
   "outputs": [],
   "source": [
    "# ps(game_state_p)\n",
    "# game_state, score = drop_element(d(game_state_p), 5, 2, 5, update=True)\n",
    "# # game_state = drop_element(game_state, 5, 3, 0, update=False)\n",
    "# ps(game_state)\n",
    "# print(score)"
   ]
  },
  {
   "cell_type": "markdown",
   "metadata": {},
   "source": [
    "### add element"
   ]
  },
  {
   "cell_type": "code",
   "execution_count": null,
   "metadata": {},
   "outputs": [],
   "source": [
    "# game_state, action, score = add_element(game_state_p, \"T\")\n",
    "# ps(game_state)"
   ]
  },
  {
   "cell_type": "code",
   "execution_count": null,
   "metadata": {
    "scrolled": false
   },
   "outputs": [],
   "source": [
    "# ps(game_state)\n",
    "# game_state, action, score = add_element(game_state, \"T\")\n",
    "# game_state = resolve_rows(game_state)\n",
    "# print(\"score :\", score)\n",
    "# ps(game_state)"
   ]
  },
  {
   "cell_type": "markdown",
   "metadata": {},
   "source": [
    "# The game"
   ]
  },
  {
   "cell_type": "code",
   "execution_count": null,
   "metadata": {},
   "outputs": [],
   "source": [
    "def the_function(jsoninput):\n",
    "    blockchain = jsoninput[\"tetrominoSequence\"]\n",
    "    movechain = []\n",
    "    game_state = d(game_state_empty)\n",
    "    for block in list(blockchain):\n",
    "        game_state, action, score = add_element(game_state, block)\n",
    "        game_state = resolve_rows(game_state)\n",
    "        movechain.append(action)\n",
    "        print(\"score:\", score)\n",
    "    #     pp(game_state)\n",
    "        ps(game_state)\n",
    "    return {\"actions\":movechain}"
   ]
  },
  {
   "cell_type": "code",
   "execution_count": null,
   "metadata": {
    "scrolled": false
   },
   "outputs": [],
   "source": [
    "json_input = {\"tetrominoSequence\": \"IOJLLLTIOOTIOTZSTTTLLIJSZTIT\"}\n",
    "print(the_function(json_input))"
   ]
  },
  {
   "cell_type": "code",
   "execution_count": null,
   "metadata": {},
   "outputs": [],
   "source": []
  },
  {
   "cell_type": "code",
   "execution_count": null,
   "metadata": {},
   "outputs": [],
   "source": []
  },
  {
   "cell_type": "code",
   "execution_count": null,
   "metadata": {},
   "outputs": [],
   "source": []
  },
  {
   "cell_type": "code",
   "execution_count": null,
   "metadata": {},
   "outputs": [],
   "source": []
  },
  {
   "cell_type": "code",
   "execution_count": null,
   "metadata": {},
   "outputs": [],
   "source": []
  },
  {
   "cell_type": "markdown",
   "metadata": {},
   "source": [
    "# Game declaration"
   ]
  },
  {
   "cell_type": "code",
   "execution_count": null,
   "metadata": {},
   "outputs": [],
   "source": [
    "import logging\n",
    "\n",
    "from flask import request, jsonify\n",
    "import requests\n",
    "from codeitsuisse import app\n",
    "\n",
    "logger = logging.getLogger(__name__)\n",
    "\n",
    "\n",
    "def tetris(jsoninput):\n",
    "    seq = list(jsoninput[\"tetrominoSequence\"])\n",
    "    solution = []\n",
    "    counter = 0\n",
    "    for t in seq:\n",
    "        solution.append(counter % 10)\n",
    "        counter += 2\n",
    "\n",
    "    return {\"actions\": solution}\n",
    "\n",
    "\n",
    "@app.route('/tetris', methods=['POST'])\n",
    "def evaluate_tetris():\n",
    "    data = request.get_json()\n",
    "    requests.post('http://requestbin.fullcontact.com/1k953nu1', json=data)\n",
    "    logging.info(\"data sent for evaluation {}\".format(data))\n",
    "    output = the_function(data)\n",
    "    return jsonify(output)"
   ]
  },
  {
   "cell_type": "code",
   "execution_count": 1,
   "metadata": {},
   "outputs": [],
   "source": [
    "cells = [\n",
    "    # I    \n",
    "    [\n",
    "        [(0,0), (0,1), (0,2), (0,3)],\n",
    "        [(0,0), (1,0), (2,0), (3,0)],\n",
    "        [(0,0), (0,1), (0,2), (0,3)],\n",
    "        [(0,0), (1,0), (2,0), (3,0)]\n",
    "    ],\n",
    "    \n",
    "    # j\n",
    "    [\n",
    "        [(0,0), (1,0), (1,1), (1,2)],\n",
    "        [(0,0), (0,1), (1,0), (2,0)],\n",
    "        [(0,0), (0,1), (0,2), (1,2)],\n",
    "        [(0,1), (1,1), (2,1), (2,0)]\n",
    "    ],\n",
    "    \n",
    "    # L\n",
    "    [\n",
    "        [(0,0), (1,0), (0,1), (0,2)],\n",
    "        [(0,0), (0,1), (1,1), (2,1)],\n",
    "        [(0,2), (1,2), (1,1), (1,0)],\n",
    "        [(0,0), (1,0), (2,0), (2,1)]        \n",
    "    ],\n",
    "    \n",
    "    \n",
    "    # O\n",
    "    [\n",
    "        [(0,0), (0,1), (1,0), (1,1)],\n",
    "        [(0,0), (0,1), (1,0), (1,1)],\n",
    "        [(0,0), (0,1), (1,0), (1,1)],\n",
    "        [(0,0), (0,1), (1,0), (1,1)]\n",
    "    ],\n",
    "    \n",
    "    # S\n",
    "    [\n",
    "        [(0,0), (1,0), (1,1), (2,1)],\n",
    "        [(0,2), (0,1), (1,1), (1,0)],\n",
    "        [(0,1), (1,1), (1,0), (2,0)],\n",
    "        [(0,0), (0,1), (1,1), (1,2)]\n",
    "    ],\n",
    "    \n",
    "    # T\n",
    "    [\n",
    "        [(0,1), (1,1), (1,0), (2,1)],\n",
    "        [(0,1), (1,1), (1,0), (1,2)],\n",
    "        [(0,0), (1,0), (2,0), (1,1)],\n",
    "        [(0,0), (0,1), (0,2), (1,1)]\n",
    "    ],\n",
    "    \n",
    "    # Z\n",
    "    [\n",
    "        [(0,1), (1,1), (1,0), (2,0)],\n",
    "        [(0,0), (0,1), (1,1), (1,2)],\n",
    "        [(0,0), (1,0), (1,1), (2,1)],\n",
    "        [(0,2), (0,1), (1,1), (1,0)]\n",
    "    ]\n",
    "]"
   ]
  },
  {
   "cell_type": "code",
   "execution_count": 2,
   "metadata": {},
   "outputs": [],
   "source": [
    "bases = []\n",
    "for cell in cells:\n",
    "    cell_bases = []\n",
    "    for orientation in cell:\n",
    "        base_line = [4,4,4,4]\n",
    "        for point in orientation:\n",
    "            if point[1] < base_line[point[0]]:\n",
    "                base_line[point[0]] = point[1]\n",
    "        base_points = []\n",
    "        for i,base in enumerate(base_line):\n",
    "            if base != 4:\n",
    "                base_points.append((i,base))\n",
    "        cell_bases.append(base_points)\n",
    "    bases.append(cell_bases)"
   ]
  },
  {
   "cell_type": "code",
   "execution_count": 3,
   "metadata": {},
   "outputs": [],
   "source": [
    "widths = []\n",
    "for cell in cells:\n",
    "    cell_widths = []\n",
    "    for orientation in cell:\n",
    "        width = 0\n",
    "        for point in orientation:\n",
    "            if point[0] > width:\n",
    "                width = point[0]\n",
    "        cell_widths.append(width)\n",
    "    widths.append(cell_widths)"
   ]
  },
  {
   "cell_type": "code",
   "execution_count": 4,
   "metadata": {},
   "outputs": [],
   "source": [
    "# from pprint import pprint as pp\n",
    "# pp(bases)"
   ]
  },
  {
   "cell_type": "code",
   "execution_count": 5,
   "metadata": {
    "scrolled": false
   },
   "outputs": [],
   "source": [
    "# import matplotlib.pyplot as plt\n",
    "\n",
    "# for i,cell in enumerate(cells):\n",
    "#     for j,orientation in enumerate(cell):\n",
    "#         plt.figure(figsize=(1,1))\n",
    "#         plt.axis([-1, 4, -1, 4])\n",
    "#         for point in orientation:\n",
    "# #             print(point)\n",
    "#             plt.scatter(point[0], point[1], marker=\"x\")\n",
    "    \n",
    "#         for point in bases[i][j]:\n",
    "# #             print(point)\n",
    "#             plt.scatter(point[0], point[1])\n",
    "    \n",
    "#         plt.axvline(x=widths[i][j])\n",
    "            \n",
    "#         plt.show()\n",
    "#     print(\"\\n\\n\")"
   ]
  },
  {
   "cell_type": "code",
   "execution_count": null,
   "metadata": {},
   "outputs": [],
   "source": []
  },
  {
   "cell_type": "code",
   "execution_count": null,
   "metadata": {},
   "outputs": [],
   "source": [
    "!jupyter nbconvert --to script tetris.ipynb"
   ]
  },
  {
   "cell_type": "code",
   "execution_count": null,
   "metadata": {},
   "outputs": [],
   "source": []
  },
  {
   "cell_type": "code",
   "execution_count": null,
   "metadata": {},
   "outputs": [],
   "source": []
  }
 ],
 "metadata": {
  "kernelspec": {
   "display_name": "Python [conda env:dw]",
   "language": "python",
   "name": "conda-env-dw-py"
  },
  "language_info": {
   "codemirror_mode": {
    "name": "ipython",
    "version": 3
   },
   "file_extension": ".py",
   "mimetype": "text/x-python",
   "name": "python",
   "nbconvert_exporter": "python",
   "pygments_lexer": "ipython3",
   "version": "3.6.5"
  }
 },
 "nbformat": 4,
 "nbformat_minor": 2
}
