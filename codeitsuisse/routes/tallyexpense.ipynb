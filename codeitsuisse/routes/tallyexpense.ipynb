{
 "cells": [
  {
   "cell_type": "code",
   "execution_count": 1,
   "metadata": {},
   "outputs": [],
   "source": [
    "jsoninput1 = {\n",
    "    \"name\": \"Jan Expense Report\",\n",
    "    \"persons\": [\"Alice\", \"Bob\", \"Claire\", \"David\"],\n",
    "    \"expenses\": [\n",
    "        {\n",
    "            \"category\": \"Breakfast\",\n",
    "            \"amount\": 60,\n",
    "            \"paidBy\": \"Bob\",\n",
    "            \"exclude\": [\"Claire\",\"David\"]\n",
    "        },\n",
    "        {\n",
    "            \"category\": \"Phone Bill\",\n",
    "            \"amount\": 100,\n",
    "            \"paidBy\": \"Claire\"\n",
    "        },\n",
    "        {\n",
    "            \"category\": \"Groceries\",\n",
    "            \"amount\": 80,\n",
    "            \"paidBy\": \"David\"\n",
    "        },\n",
    "        {\n",
    "            \"category\": \"Petrol\",\n",
    "            \"amount\": 40,\n",
    "            \"paidBy\": \"David\"\n",
    "        }\n",
    "    ]\n",
    "}"
   ]
  },
  {
   "cell_type": "code",
   "execution_count": 2,
   "metadata": {},
   "outputs": [],
   "source": [
    "jsoninput = jsoninput1"
   ]
  },
  {
   "cell_type": "code",
   "execution_count": 3,
   "metadata": {},
   "outputs": [
    {
     "name": "stdout",
     "output_type": "stream",
     "text": [
      "['Alice', 'Bob', 'Claire', 'David']\n"
     ]
    }
   ],
   "source": [
    "persons = jsoninput[\"persons\"]\n",
    "print(persons)"
   ]
  },
  {
   "cell_type": "code",
   "execution_count": 4,
   "metadata": {},
   "outputs": [
    {
     "name": "stdout",
     "output_type": "stream",
     "text": [
      "[{'category': 'Breakfast', 'amount': 60, 'paidBy': 'Bob', 'exclude': ['Claire', 'David']}, {'category': 'Phone Bill', 'amount': 100, 'paidBy': 'Claire'}, {'category': 'Groceries', 'amount': 80, 'paidBy': 'David'}, {'category': 'Petrol', 'amount': 40, 'paidBy': 'David'}]\n"
     ]
    }
   ],
   "source": [
    "expenses = jsoninput[\"expenses\"]\n",
    "print(expenses)"
   ]
  },
  {
   "cell_type": "code",
   "execution_count": 5,
   "metadata": {},
   "outputs": [],
   "source": [
    "rec_arr = [0] * len(persons)\n",
    "not_pay_arr = [0] * len(persons)\n",
    "\n",
    "accul = 0"
   ]
  },
  {
   "cell_type": "code",
   "execution_count": 6,
   "metadata": {},
   "outputs": [],
   "source": [
    "for expense in expenses:\n",
    "    rec_arr[persons.index(expense[\"paidBy\"])] += expense[\"amount\"]\n",
    "    \n",
    "    if \"exclude\" in expense:\n",
    "        num_people_payable = len(persons) - len(expense[\"exclude\"])\n",
    "\n",
    "        not_payable = expense[\"amount\"]/num_people_payable\n",
    "\n",
    "#         print(\"x\")\n",
    "        for excluded in expense[\"exclude\"]:\n",
    "#             print(excluded)\n",
    "#             print(persons.index(excluded))\n",
    "            not_pay_arr[persons.index(excluded)] += not_payable\n",
    "            accul += not_payable\n",
    "\n",
    "#     pay_arr[]"
   ]
  },
  {
   "cell_type": "code",
   "execution_count": 7,
   "metadata": {},
   "outputs": [
    {
     "name": "stdout",
     "output_type": "stream",
     "text": [
      "[0, 60, 100, 120]\n",
      "[0, 0, 30.0, 30.0]\n"
     ]
    }
   ],
   "source": [
    "print(rec_arr)\n",
    "print(not_pay_arr)"
   ]
  },
  {
   "cell_type": "code",
   "execution_count": 8,
   "metadata": {},
   "outputs": [
    {
     "name": "stdout",
     "output_type": "stream",
     "text": [
      "85.0\n",
      "[-85.0, -85.0, -55.0, -55.0]\n",
      "[-85.0, -25.0, 45.0, 65.0]\n"
     ]
    }
   ],
   "source": [
    "total_receiveable = sum(rec_arr) + accul\n",
    "total_not_payable = sum(not_pay_arr)\n",
    "to_split = total_receiveable/len(persons)\n",
    "print(to_split)\n",
    "pay_arr = [not_pay - to_split for not_pay in not_pay_arr]\n",
    "print(pay_arr)\n",
    "transfer = [x + y for x,y in zip(rec_arr, pay_arr)]\n",
    "print(transfer)"
   ]
  },
  {
   "cell_type": "code",
   "execution_count": 9,
   "metadata": {},
   "outputs": [],
   "source": [
    "cumsum = lambda X: X[:1] + cumsum([X[0]+X[1]] + X[2:]) if X[1:] else X"
   ]
  },
  {
   "cell_type": "code",
   "execution_count": 10,
   "metadata": {},
   "outputs": [
    {
     "data": {
      "text/plain": [
       "[-85.0, -110.0, -65.0, 0.0]"
      ]
     },
     "execution_count": 10,
     "metadata": {},
     "output_type": "execute_result"
    }
   ],
   "source": [
    "cumsum(transfer)"
   ]
  },
  {
   "cell_type": "code",
   "execution_count": 4,
   "metadata": {},
   "outputs": [],
   "source": [
    "def transfer(jsoninput):\n",
    "    persons = jsoninput[\"persons\"]\n",
    "    expenses = jsoninput[\"expenses\"]\n",
    "\n",
    "    rec_arr = [0] * len(persons)\n",
    "    not_pay_arr = [0] * len(persons)\n",
    "\n",
    "    accul = 0\n",
    "    \n",
    "    for expense in expenses:\n",
    "        rec_arr[persons.index(expense[\"paidBy\"])] += expense[\"amount\"]\n",
    "\n",
    "        if \"exclude\" in expense:\n",
    "            num_people_payable = len(persons) - len(expense[\"exclude\"])\n",
    "\n",
    "            not_payable = expense[\"amount\"]/num_people_payable\n",
    "\n",
    "            for excluded in expense[\"exclude\"]:\n",
    "                not_pay_arr[persons.index(excluded)] += not_payable\n",
    "                accul += not_payable\n",
    "    \n",
    "    total_receiveable = sum(rec_arr) + accul\n",
    "    total_not_payable = sum(not_pay_arr)\n",
    "    to_split = total_receiveable/len(persons)\n",
    "    \n",
    "#     print(to_split)\n",
    "    pay_arr = [not_pay - to_split for not_pay in not_pay_arr]\n",
    "    print(pay_arr)\n",
    "    transfer = [x + y for x,y in zip(rec_arr, pay_arr)]\n",
    "    \n",
    "#     print(transfer)\n",
    "    \n",
    "    cumsum = lambda X: X[:1] + cumsum([X[0]+X[1]] + X[2:]) if X[1:] else X\n",
    "    give = cumsum(transfer)\n",
    "    \n",
    "    transactions = [{\"from\": persons[i], \"to\": persons[i+1], \"amount\" : (-give[i])} for i in range(len(persons)-1)]\n",
    "    \n",
    "    for transaction in transactions:\n",
    "        transaction[\"amount\"] = round(transaction[\"amount\"],2)\n",
    "        \n",
    "        if transaction[\"amount\"] < 0:\n",
    "            transaction[\"from\"], transaction[\"to\"] = transaction[\"to\"], transaction[\"from\"]\n",
    "            transaction[\"amount\"] = - transaction[\"amount\"]\n",
    "            \n",
    "    return {\"transactions\": transactions}"
   ]
  },
  {
   "cell_type": "code",
   "execution_count": 5,
   "metadata": {},
   "outputs": [
    {
     "name": "stdout",
     "output_type": "stream",
     "text": [
      "[-85.0, -85.0, -55.0, -55.0]\n"
     ]
    },
    {
     "data": {
      "text/plain": [
       "{'transactions': [{'from': 'Alice', 'to': 'Bob', 'amount': 85.0},\n",
       "  {'from': 'Bob', 'to': 'Claire', 'amount': 110.0},\n",
       "  {'from': 'Claire', 'to': 'David', 'amount': 65.0}]}"
      ]
     },
     "execution_count": 5,
     "metadata": {},
     "output_type": "execute_result"
    }
   ],
   "source": [
    "transfer(jsoninput1)"
   ]
  },
  {
   "cell_type": "code",
   "execution_count": null,
   "metadata": {},
   "outputs": [],
   "source": []
  },
  {
   "cell_type": "code",
   "execution_count": null,
   "metadata": {},
   "outputs": [],
   "source": []
  }
 ],
 "metadata": {
  "kernelspec": {
   "display_name": "Python [conda env:credit]",
   "language": "python",
   "name": "conda-env-credit-py"
  },
  "language_info": {
   "codemirror_mode": {
    "name": "ipython",
    "version": 3
   },
   "file_extension": ".py",
   "mimetype": "text/x-python",
   "name": "python",
   "nbconvert_exporter": "python",
   "pygments_lexer": "ipython3",
   "version": "3.6.6"
  }
 },
 "nbformat": 4,
 "nbformat_minor": 2
}
